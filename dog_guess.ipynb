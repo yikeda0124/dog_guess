{
  "nbformat": 4,
  "nbformat_minor": 0,
  "metadata": {
    "colab": {
      "provenance": [],
      "collapsed_sections": []
    },
    "kernelspec": {
      "name": "python3",
      "display_name": "Python 3"
    },
    "language_info": {
      "name": "python"
    }
  },
  "cells": [
    {
      "cell_type": "code",
      "execution_count": null,
      "metadata": {
        "id": "jjeGTL_LULHU"
      },
      "outputs": [],
      "source": [
        "!pip install git+https://github.com/openai/CLIP.git\n",
        "!git clone https://github.com/yikeda0124/dog_guess.git\n",
        "import torch\n",
        "import clip\n",
        "from PIL import Image\n",
        "\n",
        "device = \"cuda\" if torch.cuda.is_available() else \"cpu\"\n",
        "model, preprocess = clip.load(\"ViT-B/32\", device=device)"
      ]
    },
    {
      "cell_type": "code",
      "source": [
        "import numpy as np\n",
        "import cv2\n",
        "from google.colab.patches import cv2_imshow\n",
        "import glob\n",
        "\n",
        "files = glob.glob(\"dog_guess/dogs/*.png\")\n",
        "for n in range(len(files)):\n",
        "    cv_img = cv2.imread(files[n])\n",
        "    cv_img = cv2.resize(cv_img, dsize=None, fx=0.3, fy=0.3)\n",
        "    cv2_imshow(cv_img)\n",
        "    image = preprocess(Image.open(files[n])).unsqueeze(0).to(device)\n",
        "    doglist = [\"Golden Retrievers\", \"Boston Terriers\", \"Labrador Retrievers\", \"Poodles\", \"Border Collie\", \"Beagle\", \"Irish Setter\", \"Staffordshire Bull Terrier\", \"Cavalier King Charles Spaniel\", \"Cockapoo\", \"Boxer\", \"Shih Tzu\", \"French Bulldog\", \"Basset Hound\", \"Cocker Spaniel\", \"Greyhound\", \"Great Dane\", \"Samoyed\", \"West Highland Terriers\", \"Pembroke Welsh Corgi\"]\n",
        "    text = clip.tokenize(doglist).to(device)\n",
        "\n",
        "    with torch.no_grad():\n",
        "        logits_per_image, logits_per_text = model(image, text)\n",
        "        probs = logits_per_image.softmax(dim=-1).cpu().numpy()\n",
        "\n",
        "    print(doglist[np.argmax(probs)])"
      ],
      "metadata": {
        "id": "m39bYMXFUZvd"
      },
      "execution_count": null,
      "outputs": []
    },
    {
      "cell_type": "code",
      "source": [],
      "metadata": {
        "id": "ZurcnS8OVUf5"
      },
      "execution_count": null,
      "outputs": []
    }
  ]
}